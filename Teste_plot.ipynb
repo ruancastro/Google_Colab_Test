{
  "nbformat": 4,
  "nbformat_minor": 0,
  "metadata": {
    "colab": {
      "name": "Teste_plot.ipynb",
      "provenance": [],
      "collapsed_sections": [],
      "authorship_tag": "ABX9TyMywiQzzCdRL+BpOn8F1OYp",
      "include_colab_link": true
    },
    "kernelspec": {
      "name": "python3",
      "display_name": "Python 3"
    }
  },
  "cells": [
    {
      "cell_type": "markdown",
      "metadata": {
        "id": "view-in-github",
        "colab_type": "text"
      },
      "source": [
        "<a href=\"https://colab.research.google.com/github/ruancastro/Google_Colab_Test/blob/master/Teste_plot.ipynb\" target=\"_parent\"><img src=\"https://colab.research.google.com/assets/colab-badge.svg\" alt=\"Open In Colab\"/></a>"
      ]
    },
    {
      "cell_type": "code",
      "metadata": {
        "id": "UFOqXaX8BAGj",
        "colab_type": "code",
        "colab": {}
      },
      "source": [
        "import matplotlib.pyplot as plt\n",
        "import numpy as np\n",
        "x=np.arange(0,2*np.pi,0.1)\n",
        "y=np.sin(x)"
      ],
      "execution_count": 0,
      "outputs": []
    },
    {
      "cell_type": "markdown",
      "metadata": {
        "id": "u4H29Q7NBEJw",
        "colab_type": "text"
      },
      "source": [
        "###   Nesse teste, iniciaremos os trabalhos com o Google Colab, No código abaixo, criaremos uma senóide que será plotada no intervalo de 0 a $2\\pi$, veja:\n"
      ]
    },
    {
      "cell_type": "markdown",
      "metadata": {
        "id": "Uu5kfp6kC0dK",
        "colab_type": "text"
      },
      "source": [
        "### Queremos uma imagem parecida com essa :\n",
        "![ ](https://image.slidesharecdn.com/grficosenoecosseno-110427185205-phpapp02/95/grfico-seno-e-cosseno-1-728.jpg?cb=1303930360)\n",
        "\n",
        "\n",
        "\n",
        "\n",
        "\n",
        "\n",
        "\n"
      ]
    },
    {
      "cell_type": "code",
      "metadata": {
        "id": "jBZ_78s3D6cA",
        "colab_type": "code",
        "outputId": "9a88b2f5-16f4-45fa-fa1c-43607568e2d0",
        "colab": {
          "base_uri": "https://localhost:8080/",
          "height": 281
        }
      },
      "source": [
        "plt.plot(x,y,'-',Color='r')\n",
        "plt.title('Seno(x)')\n",
        "plt.savefig('s.png')\n",
        "plt.show()"
      ],
      "execution_count": 0,
      "outputs": [
        {
          "output_type": "display_data",
          "data": {
            "image/png": "[encoded data removed]",
            "text/plain": [
              "<Figure size 432x288 with 1 Axes>"
            ]
          },
          "metadata": {
            "tags": []
          }
        }
      ]
    },
    {
      "cell_type": "markdown",
      "metadata": {
        "id": "srgIpNyOE7qN",
        "colab_type": "text"
      },
      "source": [
        "### E se quisermos colocar as grades e marcar no gráfico o ponto de pico da função, ou seja, pela imagem anterior em x=$\\frac{\\pi}{2}$, como faríamos ? É muito siples, basta rodar o comando abaixo:\n"
      ]
    },
    {
      "cell_type": "code",
      "metadata": {
        "id": "90VOnjM_HYOI",
        "colab_type": "code",
        "colab": {}
      },
      "source": [
        "plt.plot(x,y,'-',Color='r',xunits='rad')\n",
        "plt.grid(True)"
      ],
      "execution_count": 0,
      "outputs": []
    },
    {
      "cell_type": "markdown",
      "metadata": {
        "id": "8dd7Ms23MWQT",
        "colab_type": "text"
      },
      "source": [
        "### Para plotar o ponto máximo da função , utilizaremos um *laço for* e o comando *if* , para então marcar o ponto, veja :"
      ]
    },
    {
      "cell_type": "code",
      "metadata": {
        "id": "Kw_JAtYhMnnc",
        "colab_type": "code",
        "outputId": "94dee15d-3a58-48fd-be75-7eeed9d908aa",
        "colab": {
          "base_uri": "https://localhost:8080/",
          "height": 265
        }
      },
      "source": [
        "fig, ax = plt.subplots()\n",
        "ax.plot(x,y,Color='r')\n",
        "\n",
        "def annot_max(x,y, ax=None):\n",
        "    xmax = x[np.argmax(y)]\n",
        "    ymax = y.max()\n",
        "    text= \"x={:.3f}, y={:.3f}\".format(xmax, ymax)\n",
        "    if not ax:\n",
        "        ax=plt.gca()\n",
        "    bbox_props = dict(boxstyle=\"square,pad=0.3\", fc=\"w\", ec=\"k\", lw=0.72)\n",
        "    arrowprops=dict(arrowstyle=\"->\",connectionstyle=\"angle,angleA=0,angleB=60\")\n",
        "    kw = dict(xycoords='data',textcoords=\"axes fraction\",\n",
        "              arrowprops=arrowprops, bbox=bbox_props, ha=\"right\", va=\"top\")\n",
        "    ax.annotate(text, xy=(xmax, ymax), xytext=(0.94,0.96), **kw)\n",
        "\n",
        "annot_max(x,y)\n",
        "\n",
        "ax.tick_params(axis='x', colors='white')\n",
        "ax.tick_params(axis='y', colors='white')\n",
        "\n",
        "ax.set_ylim(-0.3,1.5)\n",
        "plt.grid(True)\n",
        "plt.show()"
      ],
      "execution_count": 0,
      "outputs": [
        {
          "output_type": "display_data",
          "data": {
            "image/png": "[encoded data removed]",
            "text/plain": [
              "<Figure size 432x288 with 1 Axes>"
            ]
          },
          "metadata": {
            "tags": []
          }
        }
      ]
    },
    {
      "cell_type": "markdown",
      "metadata": {
        "id": "t1uf-cjnXeyh",
        "colab_type": "text"
      },
      "source": [
        "\n",
        "\n",
        "#               É isso ae , é noix, flws .                                      \n",
        "![](https://miro.medium.com/max/650/0*UCL8ajlT8-DSZU7o.gif)\n",
        "\n",
        "\n",
        "---\n"
      ]
    }
  ]
}